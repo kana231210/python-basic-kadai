{
  "nbformat": 4,
  "nbformat_minor": 0,
  "metadata": {
    "colab": {
      "provenance": [],
      "authorship_tag": "ABX9TyOV6vr1kkx7hlK0xhF7BuG3"
    },
    "kernelspec": {
      "name": "python3",
      "display_name": "Python 3"
    },
    "language_info": {
      "name": "python"
    }
  },
  "cells": [
    {
      "cell_type": "code",
      "execution_count": 1,
      "metadata": {
        "colab": {
          "base_uri": "https://localhost:8080/"
        },
        "id": "u1ymgfAeiwxm",
        "outputId": "d84898e5-ab73-4227-b8cc-f0b108bb6359"
      },
      "outputs": [
        {
          "output_type": "execute_result",
          "data": {
            "text/plain": [
              "1320.0"
            ]
          },
          "metadata": {},
          "execution_count": 1
        }
      ],
      "source": [
        "def add_two_arguments(price, shipping_fee):\n",
        "    total = int(price + shipping_fee)*1.1\n",
        "    return total\n",
        "add_two_arguments(1000, 200)"
      ]
    }
  ]
}