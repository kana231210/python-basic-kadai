{
  "nbformat": 4,
  "nbformat_minor": 0,
  "metadata": {
    "colab": {
      "provenance": [],
      "authorship_tag": "ABX9TyOQLWBZePH9sJM4hR78bSV2"
    },
    "kernelspec": {
      "name": "python3",
      "display_name": "Python 3"
    },
    "language_info": {
      "name": "python"
    }
  },
  "cells": [
    {
      "cell_type": "code",
      "execution_count": null,
      "metadata": {
        "colab": {
          "base_uri": "https://localhost:8080/"
        },
        "id": "u1ymgfAeiwxm",
        "outputId": "d84898e5-ab73-4227-b8cc-f0b108bb6359"
      },
      "outputs": [
        {
          "output_type": "execute_result",
          "data": {
            "text/plain": [
              "1320.0"
            ]
          },
          "metadata": {},
          "execution_count": 1
        }
      ],
      "source": [
        "# 12/20提出分\n",
        "def add_two_arguments(price, shipping_fee):\n",
        "    total = int(price + shipping_fee)*1.1\n",
        "    return total\n",
        "add_two_arguments(1000, 200)"
      ]
    },
    {
      "cell_type": "code",
      "source": [
        "# 【再提出分】 第1引数に商品の金額、第2引数に消費税（10%）\n",
        "def add_two_arguments(price, shipping_fee):\n",
        "    total = price + (price * shipping_fee / 100)\n",
        "    return (f\"{total}円\")\n",
        "add_two_arguments(1000, 10)"
      ],
      "metadata": {
        "colab": {
          "base_uri": "https://localhost:8080/",
          "height": 35
        },
        "id": "ruKhl_8Vvimh",
        "outputId": "cef7d7e6-5e8b-47bb-b710-ab42bcda7e57"
      },
      "execution_count": 27,
      "outputs": [
        {
          "output_type": "execute_result",
          "data": {
            "text/plain": [
              "'1100.0円'"
            ],
            "application/vnd.google.colaboratory.intrinsic+json": {
              "type": "string"
            }
          },
          "metadata": {},
          "execution_count": 27
        }
      ]
    }
  ]
}