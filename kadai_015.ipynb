{
  "nbformat": 4,
  "nbformat_minor": 0,
  "metadata": {
    "colab": {
      "provenance": [],
      "authorship_tag": "ABX9TyOuVltMGW6sH1zrb7nFLaNS"
    },
    "kernelspec": {
      "name": "python3",
      "display_name": "Python 3"
    },
    "language_info": {
      "name": "python"
    }
  },
  "cells": [
    {
      "cell_type": "code",
      "execution_count": 1,
      "metadata": {
        "id": "p4UZwoOyUKdj",
        "colab": {
          "base_uri": "https://localhost:8080/"
        },
        "outputId": "393f43da-c685-4cad-a913-2ed85a44ca03"
      },
      "outputs": [
        {
          "output_type": "stream",
          "name": "stdout",
          "text": [
            "名前 侍太郎\n",
            "年齢 36\n"
          ]
        }
      ],
      "source": [
        "class Human:\n",
        "\n",
        "    def __init__(self, name, age):\n",
        "        self.name = name\n",
        "        self.age = age\n",
        "\n",
        "    def set_name(self,name):\n",
        "        self.name=name\n",
        "\n",
        "    def show_age(self,age):\n",
        "        self.age=age\n",
        "\n",
        "    def printinfo(self):\n",
        "        print(\"名前\",self.name)\n",
        "        print(\"年齢\",self.age)\n",
        "\n",
        "human = Human(\"侍太郎\", 36)\n",
        "\n",
        "human.printinfo()"
      ]
    }
  ]
}