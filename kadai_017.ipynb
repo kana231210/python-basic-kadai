{
  "nbformat": 4,
  "nbformat_minor": 0,
  "metadata": {
    "colab": {
      "provenance": [],
      "authorship_tag": "ABX9TyPjwl3uesBZZfmDFYLFkeV9"
    },
    "kernelspec": {
      "name": "python3",
      "display_name": "Python 3"
    },
    "language_info": {
      "name": "python"
    }
  },
  "cells": [
    {
      "cell_type": "code",
      "execution_count": 1,
      "metadata": {
        "colab": {
          "base_uri": "https://localhost:8080/"
        },
        "id": "EiLe-dExDA1L",
        "outputId": "fe3b3aca-548e-4a23-b847-0bf2dc948a40"
      },
      "outputs": [
        {
          "output_type": "stream",
          "name": "stdout",
          "text": [
            "侍一郎は大人です。\n",
            "侍二郎は大人です。\n",
            "侍花子は大人ではない。\n"
          ]
        }
      ],
      "source": [
        "class Human:\n",
        "\n",
        "    def __init__(self, name, age):\n",
        "        self.name = name\n",
        "        self.age = age\n",
        "\n",
        "    def check_adult(self):\n",
        "      if self.age>=20:\n",
        "        print(f\"{self.name}は大人です。\")\n",
        "      else:\n",
        "        print(f\"{self.name}は大人ではない。\")\n",
        "\n",
        "human1=Human(\"侍一郎\",23)\n",
        "human2=Human(\"侍二郎\",20)\n",
        "human3=Human(\"侍花子\",17)\n",
        "\n",
        "human=[human1,human2,human3]\n",
        "\n",
        "for human in human:\n",
        "  human.check_adult()"
      ]
    }
  ]
}