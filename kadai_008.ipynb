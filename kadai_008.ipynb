{
  "nbformat": 4,
  "nbformat_minor": 0,
  "metadata": {
    "colab": {
      "provenance": [],
      "authorship_tag": "ABX9TyPS6hB7JqQSA8WYmLPuvj2/"
    },
    "kernelspec": {
      "name": "python3",
      "display_name": "Python 3"
    },
    "language_info": {
      "name": "python"
    }
  },
  "cells": [
    {
      "cell_type": "code",
      "execution_count": null,
      "metadata": {
        "colab": {
          "base_uri": "https://localhost:8080/"
        },
        "id": "JF308Gm_ZNyT",
        "outputId": "b3e29d39-aa57-42dc-e489-4229cc679422"
      },
      "outputs": [
        {
          "output_type": "stream",
          "name": "stdout",
          "text": [
            "正の整数入力:15\n",
            "FizzBuzz\n"
          ]
        }
      ],
      "source": [
        "var=int(input(\"正の整数入力:\"))\n",
        "if var %3==0 and var %5==0:\n",
        "  print(\"FizzBuzz\")\n",
        "\n",
        "elif var %3==0:\n",
        "  print(\"Fizz\")\n",
        "\n",
        "elif var %5==0:\n",
        "  print(\"Buzz\")\n",
        "\n",
        "else:\n",
        "  print(var)"
      ]
    }
  ]
}